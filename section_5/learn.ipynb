{
 "cells": [
  {
   "cell_type": "code",
   "execution_count": 2,
   "metadata": {},
   "outputs": [
    {
     "name": "stdout",
     "output_type": "stream",
     "text": [
      "39.2\n",
      "13.333333333333334\n"
     ]
    }
   ],
   "source": [
    "def temp_converter(temp, unit):\n",
    "    if unit == 'C':\n",
    "        return temp *9/5 +32 ## convert to F\n",
    "    elif unit == 'F':\n",
    "        return (temp - 32) *5/9 ## convert to C\n",
    "    else:\n",
    "        return None\n",
    "    \n",
    "print(temp_converter(4,'C'))\n",
    "print(temp_converter(56,'F'))"
   ]
  }
 ],
 "metadata": {
  "kernelspec": {
   "display_name": "Python 3",
   "language": "python",
   "name": "python3"
  },
  "language_info": {
   "codemirror_mode": {
    "name": "ipython",
    "version": 3
   },
   "file_extension": ".py",
   "mimetype": "text/x-python",
   "name": "python",
   "nbconvert_exporter": "python",
   "pygments_lexer": "ipython3",
   "version": "3.10.0"
  }
 },
 "nbformat": 4,
 "nbformat_minor": 2
}
