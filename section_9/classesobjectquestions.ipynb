{
 "cells": [
  {
   "cell_type": "markdown",
   "metadata": {},
   "source": [
    "# Module: Classes and Objects Assignments\n",
    "## Lesson: Creating and Working with Classes and Objects\n",
    "### Assignment 1: Basic Class and Object Creation\n",
    "\n",
    "Create a class named `Car` with attributes `make`, `model`, and `year`. Create an object of the class and print its attributes.\n",
    "\n",
    "### Assignment 2: Methods in Class\n",
    "\n",
    "Add a method named `start_engine` to the `Car` class that prints a message when the engine starts. Create an object of the class and call the method.\n",
    "\n",
    "### Assignment 3: Class with Constructor\n",
    "\n",
    "Create a class named `Student` with attributes `name` and `age`. Use a constructor to initialize these attributes. Create an object of the class and print its attributes.\n",
    "\n",
    "### Assignment 4: Class with Private Attributes\n",
    "\n",
    "Create a class named `BankAccount` with private attributes `account_number` and `balance`. Add methods to deposit and withdraw money, and to check the balance. Create an object of the class and perform some operations.\n",
    "\n",
    "### Assignment 5: Class Inheritance\n",
    "\n",
    "Create a base class named `Person` with attributes `name` and `age`. Create a derived class named `Employee` that inherits from `Person` and adds an attribute `employee_id`. Create an object of the derived class and print its attributes.\n",
    "\n",
    "### Assignment 6: Method Overriding\n",
    "\n",
    "In the `Employee` class, override the `__str__` method to return a string representation of the object. Create an object of the class and print it.\n",
    "\n",
    "### Assignment 7: Class Composition\n",
    "\n",
    "Create a class named `Address` with attributes `street`, `city`, and `zipcode`. Create a class named `Person` that has an `Address` object as an attribute. Create an object of the `Person` class and print its address.\n",
    "\n",
    "### Assignment 8: Class with Class Variables\n",
    "\n",
    "Create a class named `Counter` with a class variable `count`. Each time an object is created, increment the count. Add a method to get the current count. Create multiple objects and print the count.\n",
    "\n",
    "### Assignment 9: Static Methods\n",
    "\n",
    "Create a class named `MathOperations` with a static method to calculate the square root of a number. Call the static method without creating an object.\n",
    "\n",
    "### Assignment 10: Class with Properties\n",
    "\n",
    "Create a class named `Rectangle` with private attributes `length` and `width`. Use properties to get and set these attributes. Create an object of the class and test the properties.\n",
    "\n",
    "### Assignment 11: Abstract Base Class\n",
    "\n",
    "Create an abstract base class named `Shape` with an abstract method `area`. Create derived classes `Circle` and `Square` that implement the `area` method. Create objects of the derived classes and call the `area` method.\n",
    "\n",
    "### Assignment 12: Operator Overloading\n",
    "\n",
    "Create a class named `Vector` with attributes `x` and `y`. Overload the `+` operator to add two `Vector` objects. Create objects of the class and test the operator overloading.\n",
    "\n",
    "### Assignment 13: Class with Custom Exception\n",
    "\n",
    "Create a custom exception named `InsufficientBalanceError`. In the `BankAccount` class, raise this exception when a withdrawal amount is greater than the balance. Handle the exception and print an appropriate message.\n",
    "\n",
    "### Assignment 14: Class with Context Manager\n",
    "\n",
    "Create a class named `FileManager` that implements the context manager protocol to open and close a file. Use this class to read the contents of a file.\n",
    "\n",
    "### Assignment 15: Chaining Methods\n",
    "\n",
    "Create a class named `Calculator` with methods to add, subtract, multiply, and divide. Each method should return the object itself to allow method chaining. Create an object and chain multiple method calls."
   ]
  },
  {
   "cell_type": "code",
   "execution_count": 7,
   "metadata": {},
   "outputs": [
    {
     "name": "stdout",
     "output_type": "stream",
     "text": [
      "make: toyota; model: camry; year: 2021\n",
      "car has started\n",
      "Student name:Krant; age: 30\n"
     ]
    }
   ],
   "source": [
    "#1\n",
    "class Car:\n",
    "    def __init__(self, make, model, year) -> None:\n",
    "        self.make = make\n",
    "        self.__model = model\n",
    "        self.year = year\n",
    "        pass\n",
    "    \n",
    "    def info(self):\n",
    "        print(f\"make: {self.make}; model: {self.__model}; year: {self.year}\")\n",
    "    \n",
    "    def startEngine(self):\n",
    "        print(\"car has started\")\n",
    "\n",
    "\n",
    "car1 = Car('toyota', 'camry', 2021)\n",
    "car1.info()\n",
    "#2\n",
    "car1.startEngine()\n",
    "\n",
    "#3\n",
    "class Student:\n",
    "    def __init__(self, name, age):\n",
    "        self.name = name\n",
    "        self.age = age\n",
    "\n",
    "student1 = Student(\"Krant\", 30)\n",
    "print(f\"Student name:{student1.name}; age: {student1.age}\")"
   ]
  },
  {
   "cell_type": "code",
   "execution_count": 11,
   "id": "3f6241f5",
   "metadata": {},
   "outputs": [
    {
     "name": "stdout",
     "output_type": "stream",
     "text": [
      "Balance is $5000\n",
      "$300 credited. New balance is $5300\n",
      "Insufficient funds\n",
      "$100 deducted. New balance is $5200\n"
     ]
    }
   ],
   "source": [
    "#4\n",
    "class BankAccount:\n",
    "    def __init__(self, account_number, balance=0):\n",
    "        self.account_number = account_number\n",
    "        self.balance = balance\n",
    "    \n",
    "    def deposit(self, amount):\n",
    "        self.balance+= amount\n",
    "        print(f\"${amount} credited. New balance is ${self.balance}\")\n",
    "\n",
    "    def withdraw(self, amount):\n",
    "        if self.balance < amount:\n",
    "            print(\"Insufficient funds\")\n",
    "        else:\n",
    "            self.balance -= amount\n",
    "            print(f\"${amount} deducted. New balance is ${self.balance}\")\n",
    "    \n",
    "    def checkbalance(self):\n",
    "        print(f\"Balance is ${self.balance}\")\n",
    "\n",
    "bac = BankAccount(123,5000)\n",
    "bac.checkbalance()\n",
    "bac.deposit(300)\n",
    "bac.withdraw(6000)\n",
    "bac.withdraw(100)"
   ]
  },
  {
   "cell_type": "code",
   "execution_count": 12,
   "id": "038383fc",
   "metadata": {},
   "outputs": [
    {
     "data": {
      "text/plain": [
       "'Divya age is 42and employeeid is 3'"
      ]
     },
     "execution_count": 12,
     "metadata": {},
     "output_type": "execute_result"
    }
   ],
   "source": [
    "class Person:\n",
    "    def __init__(self, name, age):\n",
    "        self.name = name\n",
    "        self.age = age\n",
    "    \n",
    "    def __str__(self) -> str:\n",
    "        return f\"{self.name} age is {self.age}\"\n",
    "\n",
    "class Employee(Person):\n",
    "    def __init__(self, name, age, employee_id):\n",
    "        super().__init__(name, age)\n",
    "        self.employee_id = employee_id\n",
    "\n",
    "    def __str__(self) -> str:\n",
    "        return super().__str__() + f\" and employeeid is {self.employee_id}\"\n",
    "\n",
    "emp = Employee(\"Divya\", 42, 3)\n",
    "emp.__str__()\n",
    "\n"
   ]
  },
  {
   "cell_type": "code",
   "execution_count": 14,
   "id": "01ee4a98",
   "metadata": {},
   "outputs": [
    {
     "data": {
      "text/plain": [
       "\"Kranti's address is quarry philly 9103\""
      ]
     },
     "execution_count": 14,
     "metadata": {},
     "output_type": "execute_result"
    }
   ],
   "source": [
    "#7\n",
    "class Address:\n",
    "    def __init__(self, street, city, zipcode) -> None:\n",
    "        self.street = street\n",
    "        self.city = city\n",
    "        self.zipcode = zipcode\n",
    "\n",
    "class Person(Address):\n",
    "    def __init__(self, name, street, city, zipcode) -> None:\n",
    "        self.name = name\n",
    "        super().__init__(street, city, zipcode)\n",
    "    \n",
    "    def __str__(self) -> str:\n",
    "        return f\"{self.name}'s address is {self.street} {self.city} {self.zipcode}\"\n",
    "    \n",
    "per = Person(\"Kranti\", \"quarry\", \"philly\", \"9103\")\n",
    "per.__str__()"
   ]
  },
  {
   "cell_type": "code",
   "execution_count": 15,
   "id": "a12eb1cc",
   "metadata": {},
   "outputs": [
    {
     "name": "stdout",
     "output_type": "stream",
     "text": [
      "Current count is 1\n",
      "Current count is 2\n"
     ]
    }
   ],
   "source": [
    "#8\n",
    "class Counter:\n",
    "    count = 0\n",
    "\n",
    "    def __init__(self) -> None:\n",
    "        Counter.count +=1\n",
    "    \n",
    "    @classmethod\n",
    "    def getCounter(cls):\n",
    "        print(f\"Current count is {Counter.count}\")\n",
    "\n",
    "Counter()\n",
    "Counter.getCounter()\n",
    "Counter()\n",
    "Counter.getCounter()"
   ]
  },
  {
   "cell_type": "code",
   "execution_count": 16,
   "id": "aa242033",
   "metadata": {},
   "outputs": [
    {
     "name": "stdout",
     "output_type": "stream",
     "text": [
      "16\n"
     ]
    }
   ],
   "source": [
    "#9\n",
    "class MathOperations:\n",
    "    \n",
    "    @classmethod\n",
    "    def findSqrt(cls, a):\n",
    "        return a**2\n",
    "    \n",
    "print(MathOperations.findSqrt(4))"
   ]
  },
  {
   "cell_type": "code",
   "execution_count": 18,
   "id": "6a6731a8",
   "metadata": {},
   "outputs": [
    {
     "name": "stdout",
     "output_type": "stream",
     "text": [
      "length:2 ; width:3\n",
      "length:4 ; width:5\n"
     ]
    }
   ],
   "source": [
    "#10\n",
    "class Rectangle:\n",
    "\n",
    "    def __init__(self, length, width) -> None:\n",
    "        self.__length = length\n",
    "        self.__width = width\n",
    "    \n",
    "    @property\n",
    "    def length(self):\n",
    "        return self.__length\n",
    "    \n",
    "    @length.setter\n",
    "    def length(self, length):\n",
    "        self.__length = length\n",
    "\n",
    "    @property\n",
    "    def width(self):\n",
    "        return self.__width\n",
    "    \n",
    "    @width.setter\n",
    "    def width(self, width):\n",
    "        self.__width = width\n",
    "\n",
    "rect = Rectangle(2,3)\n",
    "print(f\"length:{rect.length} ; width:{rect.width}\")\n",
    "\n",
    "rect.length = 4\n",
    "rect.width = 5\n",
    "\n",
    "print(f\"length:{rect.length} ; width:{rect.width}\")"
   ]
  },
  {
   "cell_type": "code",
   "execution_count": 20,
   "id": "e6d071ae",
   "metadata": {},
   "outputs": [
    {
     "name": "stdout",
     "output_type": "stream",
     "text": [
      "Area of circle is: 12.56\n",
      "Area of square is: 81\n"
     ]
    }
   ],
   "source": [
    "#11\n",
    "from abc import ABC, abstractmethod\n",
    "\n",
    "class Shape(ABC):\n",
    "\n",
    "    @abstractmethod\n",
    "    def area(self):\n",
    "        pass\n",
    "\n",
    "class Circle(Shape):\n",
    "\n",
    "    def area(self, r):\n",
    "        print(\"Area of circle is:\", 3.14 * r**2)\n",
    "\n",
    "class Square(Shape):\n",
    "    \n",
    "    def area(self, a):\n",
    "        print(\"Area of square is:\", a**2)\n",
    "\n",
    "cir = Circle()\n",
    "cir.area(2)\n",
    "\n",
    "sqr = Square()\n",
    "sqr.area(9)\n"
   ]
  },
  {
   "cell_type": "code",
   "execution_count": 22,
   "id": "d9e1a970",
   "metadata": {},
   "outputs": [
    {
     "name": "stdout",
     "output_type": "stream",
     "text": [
      "Vector(6, 12)\n"
     ]
    }
   ],
   "source": [
    "#12\n",
    "class Vector:\n",
    "\n",
    "    def __init__(self, x, y):\n",
    "        self.x = x\n",
    "        self.y = y\n",
    "\n",
    "    def __add__(self, other):\n",
    "        return Vector(self.x + other.x, self.y + other.y)\n",
    "    \n",
    "    def __str__(self):\n",
    "        return f\"Vector({self.x}, {self.y})\"\n",
    "\n",
    "vec = Vector(3,6)\n",
    "ve2 = vec.__add__(vec)\n",
    "print(ve2.__str__())"
   ]
  },
  {
   "cell_type": "code",
   "execution_count": 23,
   "id": "038cca72",
   "metadata": {},
   "outputs": [
    {
     "name": "stdout",
     "output_type": "stream",
     "text": [
      "Balance is $5000\n",
      "$300 credited. New balance is $5300\n",
      "Insufficient funds\n",
      "$100 deducted. New balance is $5200\n"
     ]
    }
   ],
   "source": [
    "#13\n",
    "class InsufficientBalanceError(Exception):\n",
    "    pass\n",
    "\n",
    "class BankAccount:\n",
    "    def __init__(self, account_number, balance=0):\n",
    "        self.account_number = account_number\n",
    "        self.balance = balance\n",
    "    \n",
    "    def deposit(self, amount):\n",
    "        self.balance+= amount\n",
    "        print(f\"${amount} credited. New balance is ${self.balance}\")\n",
    "\n",
    "    def withdraw(self, amount):\n",
    "        try:\n",
    "            if self.balance < amount:\n",
    "                raise InsufficientBalanceError\n",
    "            else:\n",
    "                self.balance -= amount\n",
    "                print(f\"${amount} deducted. New balance is ${self.balance}\")\n",
    "        except InsufficientBalanceError:\n",
    "            print(\"Insufficient funds\")\n",
    "    \n",
    "    def checkbalance(self):\n",
    "        print(f\"Balance is ${self.balance}\")\n",
    "\n",
    "bac = BankAccount(123,5000)\n",
    "bac.checkbalance()\n",
    "bac.deposit(300)\n",
    "bac.withdraw(6000)\n",
    "bac.withdraw(100)"
   ]
  },
  {
   "cell_type": "code",
   "execution_count": null,
   "id": "db7f86c1",
   "metadata": {},
   "outputs": [],
   "source": [
    "#14\n",
    "class FileManager:\n",
    "    def __init__(self, filename, mode):\n",
    "        self.filename = filename\n",
    "        self.mode = mode\n",
    "\n",
    "    def __enter__(self):\n",
    "        self.file = open(self.filename, self.mode)\n",
    "        return self.file\n",
    "\n",
    "    def __exit__(self, exc_type, exc_value, traceback):\n",
    "        self.file.close()\n",
    "\n",
    "# Test\n",
    "# with FileManager('sample.txt', 'r') as file:\n",
    "#     content = file.read()\n",
    "#     print(content)"
   ]
  },
  {
   "cell_type": "code",
   "execution_count": null,
   "id": "bda7fb85",
   "metadata": {},
   "outputs": [],
   "source": [
    "#15\n",
    "class Calculator:\n",
    "    def __init__(self, value=0):\n",
    "        self.value = value\n",
    "\n",
    "    def add(self, amount):\n",
    "        self.value += amount\n",
    "        return self\n",
    "\n",
    "    def subtract(self, amount):\n",
    "        self.value -= amount\n",
    "        return self\n",
    "\n",
    "    def multiply(self, amount):\n",
    "        self.value *= amount\n",
    "        return self\n",
    "\n",
    "    def divide(self, amount):\n",
    "        if amount != 0:\n",
    "            self.value /= amount\n",
    "        else:\n",
    "            print(\"Cannot divide by zero!\")\n",
    "        return self\n",
    "\n",
    "# Test\n",
    "# calc = Calculator()\n",
    "# calc.add(10).subtract(3).multiply(2).divide(2)\n",
    "# print(calc.value)  # 7.0"
   ]
  }
 ],
 "metadata": {
  "kernelspec": {
   "display_name": "Python 3",
   "language": "python",
   "name": "python3"
  },
  "language_info": {
   "codemirror_mode": {
    "name": "ipython",
    "version": 3
   },
   "file_extension": ".py",
   "mimetype": "text/x-python",
   "name": "python",
   "nbconvert_exporter": "python",
   "pygments_lexer": "ipython3",
   "version": "3.10.0"
  }
 },
 "nbformat": 4,
 "nbformat_minor": 5
}
