{
 "cells": [
  {
   "cell_type": "markdown",
   "metadata": {},
   "source": [
    "# Module: Inheritance Assignments\n",
    "## Lesson: Single and Multiple Inheritance\n",
    "### Assignment 1: Single Inheritance Basic\n",
    "\n",
    "Create a base class named `Animal` with attributes `name` and `species`. Create a derived class named `Dog` that inherits from `Animal` and adds an attribute `breed`. Create an object of the `Dog` class and print its attributes.\n",
    "\n",
    "### Assignment 2: Method Overriding in Single Inheritance\n",
    "\n",
    "In the `Dog` class, override the `__str__` method to return a string representation of the object. Create an object of the class and print it.\n",
    "\n",
    "### Assignment 3: Single Inheritance with Additional Methods\n",
    "\n",
    "In the `Dog` class, add a method named `bark` that prints a barking sound. Create an object of the class and call the method.\n",
    "\n",
    "### Assignment 4: Multiple Inheritance Basic\n",
    "\n",
    "Create a base class named `Walker` with a method `walk` that prints a walking message. Create another base class named `Runner` with a method `run` that prints a running message. Create a derived class named `Athlete` that inherits from both `Walker` and `Runner`. Create an object of the `Athlete` class and call both methods.\n",
    "\n",
    "### Assignment 5: Method Resolution Order (MRO) in Multiple Inheritance\n",
    "\n",
    "In the `Athlete` class, override the `walk` method to print a different message. Create an object of the class and call the `walk` method. Use the `super()` function to call the `walk` method of the `Walker` class.\n",
    "\n",
    "### Assignment 6: Multiple Inheritance with Additional Attributes\n",
    "\n",
    "In the `Athlete` class, add an attribute `training_hours` and a method `train` that prints the training hours. Create an object of the class and call the method.\n",
    "\n",
    "### Assignment 7: Diamond Problem in Multiple Inheritance\n",
    "\n",
    "Create a class named `A` with a method `show` that prints a message. Create two derived classes `B` and `C` that inherit from `A` and override the `show` method. Create a class `D` that inherits from both `B` and `C`. Create an object of the `D` class and call the `show` method. Observe the method resolution order.\n",
    "\n",
    "### Assignment 8: Using `super()` in Single Inheritance\n",
    "\n",
    "Create a base class named `Shape` with an attribute `color`. Create a derived class named `Circle` that inherits from `Shape` and adds an attribute `radius`. Use the `super()` function to initialize the attributes. Create an object of the `Circle` class and print its attributes.\n",
    "\n",
    "### Assignment 9: Using `super()` in Multiple Inheritance\n",
    "\n",
    "Create a class named `Person` with an attribute `name`. Create a class named `Employee` with an attribute `employee_id`. Create a derived class `Manager` that inherits from both `Person` and `Employee`. Use the `super()` function to initialize the attributes. Create an object of the `Manager` class and print its attributes.\n",
    "\n",
    "### Assignment 10: Method Overriding and `super()`\n",
    "\n",
    "Create a class named `Vehicle` with a method `start` that prints a starting message. Create a derived class `Car` that overrides the `start` method to print a different message. Use the `super()` function to call the `start` method of the `Vehicle` class. Create an object of the `Car` class and call the `start` method.\n",
    "\n",
    "### Assignment 11: Multiple Inheritance with Different Methods\n",
    "\n",
    "Create a class named `Flyer` with a method `fly` that prints a flying message. Create a class named `Swimmer` with a method `swim` that prints a swimming message. Create a derived class `Superhero` that inherits from both `Flyer` and `Swimmer`. Create an object of the `Superhero` class and call both methods.\n",
    "\n",
    "### Assignment 12: Complex Multiple Inheritance\n",
    "\n",
    "Create a class named `Base1` with an attribute `a`. Create a class named `Base2` with an attribute `b`. Create a class named `Derived` that inherits from both `Base1` and `Base2` and adds an attribute `c`. Initialize all attributes using the `super()` function. Create an object of the `Derived` class and print its attributes.\n",
    "\n",
    "### Assignment 13: Checking Instance Types with Inheritance\n",
    "\n",
    "Create a base class named `Animal` and a derived class named `Cat`. Create objects of both classes and use the `isinstance` function to check the instance types.\n",
    "\n",
    "### Assignment 14: Polymorphism with Inheritance\n",
    "\n",
    "Create a base class named `Bird` with a method `speak`. Create two derived classes `Parrot` and `Penguin` that override the `speak` method. Create a list of `Bird` objects and call the `speak` method on each object to demonstrate polymorphism.\n",
    "\n",
    "### Assignment 15: Combining Single and Multiple Inheritance\n",
    "\n",
    "Create a base class named `Device` with an attribute `brand`. Create a derived class `Phone` that inherits from `Device` and adds an attribute `model`. Create another base class `Camera` with an attribute `resolution`. Create a derived class `Smartphone` that inherits from both `Phone` and `Camera`. Create an object of the `Smartphone` class and print its attributes."
   ]
  },
  {
   "cell_type": "code",
   "execution_count": 4,
   "metadata": {},
   "outputs": [
    {
     "name": "stdout",
     "output_type": "stream",
     "text": [
      "highbreed laika retriver\n",
      "Dog(laika, retriver, highbreed, )\n",
      "Woof!\n",
      "None\n"
     ]
    }
   ],
   "source": [
    "#1 #2 #3\n",
    "class Animal:\n",
    "\n",
    "    def __init__(self, name, species) -> None:\n",
    "        self.name = name\n",
    "        self.species = species\n",
    "    \n",
    "class Dog(Animal):\n",
    "    def __init__(self, name, species, breed) -> None:\n",
    "        super().__init__(name, species)\n",
    "        self.breed = breed\n",
    "    \n",
    "    def __str__(self) -> str:\n",
    "        return f\"Dog({self.name}, {self.species}, {self.breed}, )\"\n",
    "    \n",
    "    def bark(self):\n",
    "        print(\"Woof!\")\n",
    "\n",
    "d1 = Dog(\"laika\", \"retriver\", \"highbreed\")\n",
    "\n",
    "print(d1.breed, d1.name, d1.species)\n",
    "print(d1.__str__())\n",
    "d1.bark()\n"
   ]
  },
  {
   "cell_type": "code",
   "execution_count": 9,
   "id": "a0fda0b7",
   "metadata": {},
   "outputs": [
    {
     "name": "stdout",
     "output_type": "stream",
     "text": [
      "running\n",
      "walking is relaxing\n",
      "Walking\n",
      "10\n",
      "I train for 10 hours\n"
     ]
    }
   ],
   "source": [
    "#4\n",
    "class Walker:\n",
    "    def walk(self):\n",
    "        print(\"Walking\")\n",
    "\n",
    "class Runner:\n",
    "    def run(self):\n",
    "        print(\"running\")\n",
    "\n",
    "class Athlete(Walker, Runner):\n",
    "    \n",
    "    def __init__(self, training_hours) -> None:\n",
    "        super().__init__()\n",
    "        self.training_hours = training_hours\n",
    "\n",
    "    def walk(self):\n",
    "        print(\"walking is relaxing\")\n",
    "        super().walk()\n",
    "    \n",
    "    def train(self):\n",
    "        print(f\"I train for {self.training_hours} hours\")\n",
    "\n",
    "a = Athlete(10)\n",
    "a.run()\n",
    "a.walk()\n",
    "print(a.training_hours)\n",
    "a.train()"
   ]
  },
  {
   "cell_type": "code",
   "execution_count": 11,
   "id": "847c7d3e",
   "metadata": {},
   "outputs": [
    {
     "name": "stdout",
     "output_type": "stream",
     "text": [
      "message in B\n"
     ]
    }
   ],
   "source": [
    "#7\n",
    "class A:\n",
    "    def show(self):\n",
    "        print(\"message in A\")\n",
    "class B(A):\n",
    "    def show(self):\n",
    "        print(\"message in B\")\n",
    "class C(A):\n",
    "    def show(self):\n",
    "        print(\"message in C\")\n",
    "class D(B,C):\n",
    "    pass\n",
    "\n",
    "d = D()\n",
    "d.show()"
   ]
  },
  {
   "cell_type": "code",
   "execution_count": 12,
   "id": "c335ed69",
   "metadata": {},
   "outputs": [
    {
     "name": "stdout",
     "output_type": "stream",
     "text": [
      "123 Kranti\n"
     ]
    }
   ],
   "source": [
    "#8\n",
    "#9\n",
    "class Person:\n",
    "    def __init__(self, name) -> None:\n",
    "        self.name = name\n",
    "\n",
    "class Employee:\n",
    "    def __init__(self, employee_id) -> None:\n",
    "        self.employee_id = employee_id\n",
    "\n",
    "class Manager(Person, Employee):\n",
    "    def __init__(self, name, employee_id) -> None:\n",
    "        super().__init__(name)\n",
    "        Employee.__init__(self, employee_id)\n",
    "\n",
    "m = Manager(\"Kranti\", \"123\")\n",
    "print(m.employee_id, m.name)"
   ]
  },
  {
   "cell_type": "code",
   "execution_count": 14,
   "id": "978e4148",
   "metadata": {},
   "outputs": [
    {
     "name": "stdout",
     "output_type": "stream",
     "text": [
      "Starting car\n",
      "Starting vehicle\n"
     ]
    }
   ],
   "source": [
    "#10\n",
    "class Vehicle:\n",
    "    def start(self):\n",
    "        print(\"Starting vehicle\")\n",
    "\n",
    "class Car(Vehicle):\n",
    "    def start(self):\n",
    "        print(\"Starting car\")\n",
    "        super().start()\n",
    "\n",
    "c = Car()\n",
    "c.start()"
   ]
  },
  {
   "cell_type": "code",
   "execution_count": 18,
   "id": "001e6ad7",
   "metadata": {},
   "outputs": [
    {
     "name": "stdout",
     "output_type": "stream",
     "text": [
      "1 2 3\n",
      "True\n",
      "True\n",
      "True\n"
     ]
    }
   ],
   "source": [
    "#11\n",
    "#12 #13\n",
    "class Base1:\n",
    "    def __init__(self,a) -> None:\n",
    "        self.a = a\n",
    "\n",
    "class Base2:\n",
    "    def __init__(self,b) -> None:\n",
    "        self.b = b\n",
    "\n",
    "class Derived(Base1, Base2):\n",
    "    def __init__(self, a, b, c) -> None:\n",
    "        super().__init__(a)\n",
    "        Base2.__init__(self, b)\n",
    "        self.c = c\n",
    "\n",
    "d = Derived(1,2,3)\n",
    "print(d.a,  d.b, d.c)\n",
    "print(isinstance(d, Base1))\n",
    "print(isinstance(d, Base2))\n",
    "print(isinstance(d, Derived))"
   ]
  },
  {
   "cell_type": "code",
   "execution_count": 19,
   "id": "0be8ef4b",
   "metadata": {},
   "outputs": [
    {
     "name": "stdout",
     "output_type": "stream",
     "text": [
      "iphone 15 34px\n"
     ]
    }
   ],
   "source": [
    "#15\n",
    "class Device:\n",
    "    def __init__(self, brand) -> None:\n",
    "        self.brand = brand\n",
    "\n",
    "class Phone(Device):\n",
    "    def __init__(self, brand, model) -> None:\n",
    "        super().__init__(brand)\n",
    "        self.model = model\n",
    "\n",
    "class Camera:\n",
    "    def __init__(self, resolution) -> None:\n",
    "        self.resolution = resolution\n",
    "\n",
    "class Smartphone(Phone, Camera):\n",
    "    def __init__(self, brand, model, resolution) -> None:\n",
    "        super().__init__(brand, model)\n",
    "        Camera.__init__(self, resolution)\n",
    "\n",
    "s = Smartphone(\"iphone\", \"15\", \"34px\")\n",
    "print(s.brand, s.model, s.resolution)"
   ]
  }
 ],
 "metadata": {
  "kernelspec": {
   "display_name": "Python 3",
   "language": "python",
   "name": "python3"
  },
  "language_info": {
   "codemirror_mode": {
    "name": "ipython",
    "version": 3
   },
   "file_extension": ".py",
   "mimetype": "text/x-python",
   "name": "python",
   "nbconvert_exporter": "python",
   "pygments_lexer": "ipython3",
   "version": "3.10.0"
  }
 },
 "nbformat": 4,
 "nbformat_minor": 5
}
