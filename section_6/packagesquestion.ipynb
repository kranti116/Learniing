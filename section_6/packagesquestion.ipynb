{
 "cells": [
  {
   "cell_type": "markdown",
   "metadata": {},
   "source": [
    "# Module 5: Modules and Packages Assignments\n",
    "## Lesson 5.1: Importing Modules\n",
    "### Assignment 1: Importing and Using Modules\n",
    "\n",
    "Import the `math` module and use it to calculate the square root of 25 and the sine of 90 degrees.\n",
    "\n",
    "### Assignment 2: Aliasing Modules\n",
    "\n",
    "Import the `datetime` module with an alias and use it to print the current date and time.\n",
    "\n",
    "### Assignment 3: Importing Specific Functions\n",
    "\n",
    "Import the `randint` function from the `random` module and use it to generate a random integer between 1 and 100.\n",
    "\n",
    "### Assignment 4: Importing Multiple Functions\n",
    "\n",
    "Import the `sqrt` and `pow` functions from the `math` module and use them to calculate the square root of 16 and 2 raised to the power of 3.\n",
    "\n",
    "### Assignment 5: Handling Import Errors\n",
    "\n",
    "Write code that attempts to import a non-existent module and gracefully handles the import error by printing an error message.\n",
    "\n",
    "## Lesson 5.2: Standard Library Overview\n",
    "### Assignment 6: Working with the `os` Module\n",
    "\n",
    "Use the `os` module to create a new directory, list the contents of the current directory, and remove the newly created directory.\n",
    "\n",
    "### Assignment 7: Working with the `sys` Module\n",
    "\n",
    "Use the `sys` module to print the Python version currently in use and the command-line arguments passed to the script.\n",
    "\n",
    "### Assignment 8: Working with the `math` Module\n",
    "\n",
    "Use the `math` module to calculate the greatest common divisor (GCD) of two numbers and the factorial of a number.\n",
    "\n",
    "### Assignment 9: Working with the `datetime` Module\n",
    "\n",
    "Use the `datetime` module to print the current date, calculate the date 100 days from today, and determine the day of the week for a given date.\n",
    "\n",
    "### Assignment 10: Working with the `random` Module\n",
    "\n",
    "Use the `random` module to generate a list of 5 random numbers between 1 and 50 and shuffle the elements of a list.\n",
    "\n",
    "## Lesson 5.3: Creating and Using Packages\n",
    "### Assignment 11: Creating a Simple Package\n",
    "\n",
    "Create a package named `mypackage` with two modules: `module1` and `module2`. `module1` should contain a function that adds two numbers, and `module2` should contain a function that multiplies two numbers. Write code to use these functions.\n",
    "\n",
    "### Assignment 12: Using `__init__.py`\n",
    "\n",
    "Modify the `mypackage` package to include an `__init__.py` file that imports the functions from `module1` and `module2`. Write code to use these functions.\n",
    "\n",
    "### Assignment 13: Importing from a Package\n",
    "\n",
    "Write code to import and use the functions from `mypackage` without explicitly importing `module1` and `module2`.\n",
    "\n",
    "### Assignment 14: Relative Imports\n",
    "\n",
    "Create a subpackage named `subpackage` within `mypackage` and move `module2` into `subpackage`. Modify the import statements in `__init__.py` to use relative imports. Write code to use the functions from both modules.\n",
    "\n",
    "### Assignment 15: Handling Package Import Errors\n",
    "\n",
    "Write code that attempts to import a non-existent function from `mypackage` and gracefully handles the import error by printing an error message."
   ]
  },
  {
   "cell_type": "code",
   "execution_count": 10,
   "metadata": {},
   "outputs": [
    {
     "name": "stdout",
     "output_type": "stream",
     "text": [
      "square root of 25 is 5.0 and sine of 90 is 0.8939966636005579\n",
      "current date and time is 2024-10-16 21:32:21.401533\n",
      "random number between 1-100 is 97\n",
      "Square root of 16 is 4.0 and 2 raised to the power of 3 is 8.0\n",
      "Error importing module: No module named 'nonexistnatmodule'\n"
     ]
    }
   ],
   "source": [
    "#1\n",
    "import math\n",
    "\n",
    "print(f\"square root of 25 is {math.sqrt(25)} and sine of 90 is {math.sin(90)}\")\n",
    "\n",
    "#2\n",
    "import datetime as date_1\n",
    "\n",
    "print(f\"current date and time is {date_1.datetime.now()}\")\n",
    "\n",
    "#3\n",
    "import random\n",
    "print(f\"random number between 1-100 is {random.randint(1,100)}\")\n",
    "\n",
    "#4\n",
    "from math import sqrt, pow\n",
    "print(f\"Square root of 16 is {sqrt(16)} and 2 raised to the power of 3 is {pow(2,3)}\")\n",
    "\n",
    "#5\n",
    "try:\n",
    "    import nonexistnatmodule\n",
    "except ImportError as e:\n",
    "    print(f\"Error importing module: {e}\")\n"
   ]
  },
  {
   "cell_type": "code",
   "execution_count": 38,
   "id": "526012fa",
   "metadata": {},
   "outputs": [
    {
     "name": "stdout",
     "output_type": "stream",
     "text": [
      "directory listing: [] :currrent path: /Users/kdeepa423@cable.comcast.com/Desktop/learning/ml/python/section_6\n",
      "directory listing: ['packagesquestion.ipynb'] :currrent path: <module 'posixpath' from '/Users/kdeepa423@cable.comcast.com/Desktop/learning/ml/venv/lib/python3.10/posixpath.py'>\n",
      "Python version: 3.10.0 (default, Mar  3 2022, 03:57:21) [Clang 12.0.0 ]\n",
      "Command-line arguments: ['/Users/kdeepa423@cable.comcast.com/Desktop/learning/ml/venv/lib/python3.10/site-packages/ipykernel_launcher.py', '--f=/Users/kdeepa423@cable.comcast.com/Library/Jupyter/runtime/kernel-v39544be447ce54fbb2680ea4ba4678ef92860c886.json']\n",
      "GCD of 800 and 1688 is 10; factoriol of 8 is 40320\n",
      "current date: 2024-10-16 21:56:27.149782; 100 days before is 2024-07-08 21:56:27.149782 and day of the week is 0\n",
      "[42, 42, 48, 36, 35, 10]\n",
      "[48, 42, 10, 42, 36, 35]\n"
     ]
    }
   ],
   "source": [
    "#6\n",
    "import os\n",
    "\n",
    "os.mkdir(\"new_dir\")\n",
    "print(f\"directory listing: {os.listdir('new_dir')} :currrent path: {os.getcwd()}\")\n",
    "os.rmdir(\"new_dir\")\n",
    "print(f\"directory listing: {os.listdir()} :currrent path: {os.path}\")\n",
    "\n",
    "#7\n",
    "import sys\n",
    "\n",
    "print(f\"Python version: {sys.version}\")\n",
    "print(f\"Command-line arguments: {sys.argv}\")\n",
    "\n",
    "#8\n",
    "import math\n",
    "print(f\"GCD of 800 and 1688 is {math.gcd(800,790)}; factoriol of 8 is {math.factorial(8)}\")\n",
    "\n",
    "#9\n",
    "import datetime\n",
    "\n",
    "currtime = datetime.datetime.now()\n",
    "date_before100days = currtime - datetime.timedelta(days=100)\n",
    "print(f\"current date: {currtime}; 100 days before is {date_before100days} and day of the week is {date_before100days.weekday()}\")\n",
    "\n",
    "#10\n",
    "import random\n",
    "random_nos = [random.randint(1,50) for _ in range(6) ]\n",
    "print(random_nos)\n",
    "\n",
    "random.shuffle(random_nos)\n",
    "print(random_nos)\n"
   ]
  },
  {
   "cell_type": "code",
   "execution_count": 4,
   "id": "85ddda38",
   "metadata": {},
   "outputs": [
    {
     "name": "stdout",
     "output_type": "stream",
     "text": [
      "sum of 2 and 3 is 5; multiply 2 and 3 is 6\n"
     ]
    },
    {
     "ename": "ImportError",
     "evalue": "cannot import name 'add' from 'mypackage' (/Users/kdeepa423@cable.comcast.com/Desktop/learning/ml/python/section_6/mypackage/__init__.py)",
     "output_type": "error",
     "traceback": [
      "\u001b[0;31m---------------------------------------------------------------------------\u001b[0m",
      "\u001b[0;31mImportError\u001b[0m                               Traceback (most recent call last)",
      "Cell \u001b[0;32mIn[4], line 9\u001b[0m\n\u001b[1;32m      4\u001b[0m \u001b[38;5;28mprint\u001b[39m(\u001b[38;5;124mf\u001b[39m\u001b[38;5;124m\"\u001b[39m\u001b[38;5;124msum of 2 and 3 is \u001b[39m\u001b[38;5;132;01m{\u001b[39;00madd(\u001b[38;5;241m2\u001b[39m,\u001b[38;5;241m3\u001b[39m)\u001b[38;5;132;01m}\u001b[39;00m\u001b[38;5;124m; multiply 2 and 3 is \u001b[39m\u001b[38;5;132;01m{\u001b[39;00mmultiplication(\u001b[38;5;241m2\u001b[39m,\u001b[38;5;241m3\u001b[39m)\u001b[38;5;132;01m}\u001b[39;00m\u001b[38;5;124m\"\u001b[39m)\n\u001b[1;32m      6\u001b[0m \u001b[38;5;66;03m#12\u001b[39;00m\n\u001b[1;32m      7\u001b[0m \n\u001b[1;32m      8\u001b[0m \u001b[38;5;66;03m#13\u001b[39;00m\n\u001b[0;32m----> 9\u001b[0m \u001b[38;5;28;01mfrom\u001b[39;00m \u001b[38;5;21;01mmypackage\u001b[39;00m \u001b[38;5;28;01mimport\u001b[39;00m add\n\u001b[1;32m     10\u001b[0m \u001b[38;5;28;01mfrom\u001b[39;00m \u001b[38;5;21;01mmypackage\u001b[39;00m \u001b[38;5;28;01mimport\u001b[39;00m multiplication\n\u001b[1;32m     12\u001b[0m \u001b[38;5;28mprint\u001b[39m(\u001b[38;5;124mf\u001b[39m\u001b[38;5;124m\"\u001b[39m\u001b[38;5;124msum of 2 and 3 is \u001b[39m\u001b[38;5;132;01m{\u001b[39;00madd(\u001b[38;5;241m2\u001b[39m,\u001b[38;5;241m3\u001b[39m)\u001b[38;5;132;01m}\u001b[39;00m\u001b[38;5;124m; multiply 2 and 3 is \u001b[39m\u001b[38;5;132;01m{\u001b[39;00mmultiplication(\u001b[38;5;241m2\u001b[39m,\u001b[38;5;241m3\u001b[39m)\u001b[38;5;132;01m}\u001b[39;00m\u001b[38;5;124m\"\u001b[39m)\n",
      "\u001b[0;31mImportError\u001b[0m: cannot import name 'add' from 'mypackage' (/Users/kdeepa423@cable.comcast.com/Desktop/learning/ml/python/section_6/mypackage/__init__.py)"
     ]
    }
   ],
   "source": [
    "from mypackage.module1 import add\n",
    "from mypackage.module2 import multiplication\n",
    "\n",
    "print(f\"sum of 2 and 3 is {add(2,3)}; multiply 2 and 3 is {multiplication(2,3)}\")\n",
    "\n",
    "#12\n",
    "\n",
    "#13\n"
   ]
  }
 ],
 "metadata": {
  "kernelspec": {
   "display_name": "Python 3",
   "language": "python",
   "name": "python3"
  },
  "language_info": {
   "codemirror_mode": {
    "name": "ipython",
    "version": 3
   },
   "file_extension": ".py",
   "mimetype": "text/x-python",
   "name": "python",
   "nbconvert_exporter": "python",
   "pygments_lexer": "ipython3",
   "version": "3.10.0"
  }
 },
 "nbformat": 4,
 "nbformat_minor": 5
}
