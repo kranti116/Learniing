{
 "cells": [
  {
   "cell_type": "markdown",
   "metadata": {},
   "source": [
    "# Module 3: Data Structures Assignments\n",
    "## Lesson 3.3: Sets\n",
    "### Assignment 1: Creating and Accessing Sets\n",
    "\n",
    "Create a set with the first 10 positive integers. Print the set.\n",
    "\n",
    "### Assignment 2: Adding and Removing Elements\n",
    "\n",
    "Add the number 11 to the set created in Assignment 1. Then remove the number 1 from the set. Print the modified set.\n",
    "\n",
    "### Assignment 3: Set Operations\n",
    "\n",
    "Create two sets: one with the first 5 positive integers and another with the first 5 even integers. Perform and print the results of union, intersection, difference, and symmetric difference operations on these sets.\n",
    "\n",
    "### Assignment 4: Set Comprehensions\n",
    "\n",
    "Create a new set containing the squares of the first 10 positive integers using a set comprehension. Print the new set.\n",
    "\n",
    "### Assignment 5: Filtering Sets\n",
    "\n",
    "Create a new set containing only the even numbers from the set created in Assignment 1 using a set comprehension. Print the new set.\n",
    "\n",
    "### Assignment 6: Set Methods\n",
    "\n",
    "Create a set with duplicate elements and remove the duplicates using set methods. Print the modified set.\n",
    "\n",
    "### Assignment 7: Subsets and Supersets\n",
    "\n",
    "Create two sets: one with the first 5 positive integers and another with the first 3 positive integers. Check if the second set is a subset of the first set and if the first set is a superset of the second set. Print the results.\n",
    "\n",
    "### Assignment 8: Frozenset\n",
    "\n",
    "Create a frozenset with the first 5 positive integers. Print the frozenset.\n",
    "\n",
    "### Assignment 9: Set and List Conversion\n",
    "\n",
    "Create a set with the first 5 positive integers. Convert it to a list, append the number 6, and convert it back to a set. Print the resulting set.\n",
    "\n",
    "### Assignment 10: Set and Dictionary\n",
    "\n",
    "Create a dictionary with set keys and integer values. Print the dictionary.\n",
    "\n",
    "### Assignment 11: Iterating Over Sets\n",
    "\n",
    "Create a set and iterate over the elements, printing each element.\n",
    "\n",
    "### Assignment 12: Removing Elements from Sets\n",
    "\n",
    "Create a set and remove elements from it until it is empty. Print the set after each removal.\n",
    "\n",
    "### Assignment 13: Set Symmetric Difference Update\n",
    "\n",
    "Create two sets and update the first set with the symmetric difference of the two sets. Print the modified first set.\n",
    "\n",
    "### Assignment 14: Set Membership Testing\n",
    "\n",
    "Create a set and test if certain elements are present in the set. Print the results.\n",
    "\n",
    "### Assignment 15: Set of Tuples\n",
    "\n",
    "Create a set containing tuples, where each tuple contains two elements. Print the set."
   ]
  },
  {
   "cell_type": "code",
   "execution_count": 3,
   "metadata": {},
   "outputs": [
    {
     "name": "stdout",
     "output_type": "stream",
     "text": [
      "{1, 2, 3, 4, 5, 6, 7, 8, 9, 10}\n",
      "{2, 3, 4, 5, 6, 7, 8, 9, 10, 11}\n",
      "{1, 2, 3, 4, 5, 6, 8, 10} {2, 4} {1, 3, 5} {1, 3, 5, 6, 8, 10}\n"
     ]
    }
   ],
   "source": [
    "#1\n",
    "set1={1,2,3,4,5,6,7,8,9,10}\n",
    "print(set1)\n",
    "\n",
    "#2\n",
    "set1.add(11)\n",
    "set1.pop()\n",
    "print(set1)\n",
    "\n",
    "#3\n",
    "set1={1,2,3,4,5}\n",
    "set2={2,4,6,8,10}\n",
    "print(set1.union(set2), set1.intersection(set2), set1.difference(set2), set1.symmetric_difference(set2))\n"
   ]
  },
  {
   "cell_type": "code",
   "execution_count": 11,
   "id": "b433e624",
   "metadata": {},
   "outputs": [
    {
     "name": "stdout",
     "output_type": "stream",
     "text": [
      "{1: 1, 2: 4, 3: 9, 4: 16, 5: 25, 6: 36, 7: 49, 8: 64, 9: 81, 10: 100}\n",
      "True False\n",
      "[1, 2, 3, 4, 5]\n",
      "<class 'list'>\n"
     ]
    }
   ],
   "source": [
    "#4\n",
    "print({i:i*i for i in range(1,11)})\n",
    "\n",
    "#5\n",
    "set1={1,2,3,4,5,6,7,8,9,10}\n",
    "{i for i in set1 if i%2==0}\n",
    "\n",
    "#6\n",
    "set1.discard(11)\n",
    "\n",
    "#7\n",
    "set1 = {1,2,3,4,5}\n",
    "set2 = {1,2,3}\n",
    "print(set1.issuperset(set2), set1.issubset(set2))\n",
    "\n",
    "#8\n",
    "frozenset = ([1,2,3,4,5])\n",
    "print(frozenset)\n",
    "print(type(frozenset))\n"
   ]
  },
  {
   "cell_type": "code",
   "execution_count": 13,
   "id": "3efc08a9",
   "metadata": {},
   "outputs": [
    {
     "name": "stdout",
     "output_type": "stream",
     "text": [
      "{1, 2, 3, 4, 5, 6}\n",
      "{1: 1, 2: 4, 3: 9, 4: 16, 5: 25, 6: 36, 7: 49, 8: 64, 9: 81, 10: 100}\n",
      "1\n",
      "2\n",
      "3\n",
      "4\n",
      "5\n"
     ]
    }
   ],
   "source": [
    "#9\n",
    "set1 = {1,2,3,4,5}\n",
    "lst1 = list(set1)\n",
    "lst1.append(6)\n",
    "set1 = set(lst1)\n",
    "print(set1)\n",
    "\n",
    "#10\n",
    "print({i:i*i for i in range(1,11)})\n",
    "\n",
    "#11\n",
    "set1 = {1,2,3,4,5}\n",
    "for i in set1:\n",
    "    print(i)\n"
   ]
  },
  {
   "cell_type": "code",
   "execution_count": 19,
   "id": "5c735292",
   "metadata": {},
   "outputs": [
    {
     "name": "stdout",
     "output_type": "stream",
     "text": [
      "{2, 3, 4, 5}\n",
      "{3, 4, 5}\n",
      "{4, 5}\n",
      "{5}\n",
      "set()\n",
      "{1, 2, 3, 4, 5, 6, 8, 10}\n",
      "True\n",
      "False\n",
      "{(1, 2), (3, 4)}\n"
     ]
    }
   ],
   "source": [
    "#12\n",
    "set1 = {1,2,3,4,5}\n",
    "while set1:\n",
    "    set1.pop()\n",
    "    print(set1)\n",
    "\n",
    "#13\n",
    "set1 = {1,2,3,4,5}\n",
    "set2 = {2,4,6,8,10}\n",
    "set1.update(set1.symmetric_difference(set2))\n",
    "print(set1)\n",
    "\n",
    "#14\n",
    "set1 = {1,2,3,4,5}\n",
    "print(1 in set1)\n",
    "print(10 in set1)\n",
    "\n",
    "\n",
    "#15\n",
    "set1 = {(1,2), (3,4)}\n",
    "print(set1)"
   ]
  }
 ],
 "metadata": {
  "kernelspec": {
   "display_name": "Python 3",
   "language": "python",
   "name": "python3"
  },
  "language_info": {
   "codemirror_mode": {
    "name": "ipython",
    "version": 3
   },
   "file_extension": ".py",
   "mimetype": "text/x-python",
   "name": "python",
   "nbconvert_exporter": "python",
   "pygments_lexer": "ipython3",
   "version": "3.10.0"
  }
 },
 "nbformat": 4,
 "nbformat_minor": 5
}
