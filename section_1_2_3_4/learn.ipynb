{
 "cells": [
  {
   "cell_type": "code",
   "execution_count": 1,
   "metadata": {},
   "outputs": [
    {
     "name": "stdout",
     "output_type": "stream",
     "text": [
      "<class 'int'>\n"
     ]
    }
   ],
   "source": [
    "a=10\n",
    "print(type(a))"
   ]
  },
  {
   "cell_type": "code",
   "execution_count": 2,
   "metadata": {},
   "outputs": [
    {
     "name": "stdout",
     "output_type": "stream",
     "text": [
      "Output:  0.6666666666666666\n"
     ]
    }
   ],
   "source": [
    "a=input(\"Enter first number: \")\n",
    "b=input(\"Enter second number: \")\n",
    "c=input(\"Select operation: +, -, *, /: \")\n",
    "\n",
    "if c==\"+\":\n",
    "    d=int(a)+int(b)\n",
    "elif c==\"-\":\n",
    "    d=int(a)-int(b)\n",
    "elif c==\"*\":\n",
    "    d=int(a)*int(b)\n",
    "elif c==\"/\":\n",
    "    d=int(a)/int(b)\n",
    "else:\n",
    "    print(\"Invalid operation\")\n",
    "print(\"Output: \", d)"
   ]
  }
 ],
 "metadata": {
  "kernelspec": {
   "display_name": "Python 3",
   "language": "python",
   "name": "python3"
  },
  "language_info": {
   "codemirror_mode": {
    "name": "ipython",
    "version": 3
   },
   "file_extension": ".py",
   "mimetype": "text/x-python",
   "name": "python",
   "nbconvert_exporter": "python",
   "pygments_lexer": "ipython3",
   "version": "3.10.0"
  }
 },
 "nbformat": 4,
 "nbformat_minor": 2
}
