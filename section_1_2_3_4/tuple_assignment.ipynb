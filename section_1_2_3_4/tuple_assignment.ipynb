{
 "cells": [
  {
   "cell_type": "markdown",
   "id": "6cade624",
   "metadata": {},
   "source": [
    "```markdown\n",
    "# Module 3: Data Structures Assignments\n",
    "\n",
    "## Lesson 3.2: Tuples\n",
    "\n",
    "### Assignment 1: Creating and Accessing Tuples\n",
    "\n",
    "Create a tuple with the first 10 positive integers. Print the tuple.\n",
    "\n",
    "### Assignment 2: Accessing Tuple Elements\n",
    "\n",
    "Print the first, middle, and last elements of the tuple created in Assignment 1.\n",
    "\n",
    "### Assignment 3: Tuple Slicing\n",
    "\n",
    "Print the first three elements, the last three elements, and the elements from index 2 to 5 of the tuple created in Assignment 1.\n",
    "\n",
    "### Assignment 4: Nested Tuples\n",
    "\n",
    "Create a nested tuple representing a 3x3 matrix and print the matrix. Access and print the element at the second row and third column.\n",
    "\n",
    "### Assignment 5: Tuple Concatenation\n",
    "\n",
    "Concatenate two tuples: (1, 2, 3) and (4, 5, 6). Print the resulting tuple.\n",
    "\n",
    "### Assignment 6: Tuple Methods\n",
    "\n",
    "Create a tuple with duplicate elements and count the occurrences of an element. Find the index of the first occurrence of an element in the tuple.\n",
    "\n",
    "### Assignment 7: Unpacking Tuples\n",
    "\n",
    "Create a tuple with 5 elements and unpack it into 5 variables. Print the variables.\n",
    "\n",
    "### Assignment 8: Tuple Conversion\n",
    "\n",
    "Convert a list of the first 5 positive integers to a tuple. Print the tuple.\n",
    "\n",
    "### Assignment 9: Tuple of Tuples\n",
    "\n",
    "Create a tuple containing 3 tuples, each with 3 elements. Print the tuple of tuples.\n",
    "\n",
    "### Assignment 10: Tuple and List\n",
    "\n",
    "Create a tuple with the first 5 positive integers. Convert it to a list, append the number 6, and convert it back to a tuple. Print the resulting tuple.\n",
    "\n",
    "### Assignment 11: Tuple and String\n",
    "\n",
    "Create a tuple with the characters of a string. Join the tuple elements into a single string. Print the string.\n",
    "\n",
    "### Assignment 12: Tuple and Dictionary\n",
    "\n",
    "Create a dictionary with tuple keys and integer values. Print the dictionary.\n",
    "\n",
    "### Assignment 13: Nested Tuple Iteration\n",
    "\n",
    "Create a nested tuple and iterate over the elements, printing each element.\n",
    "\n",
    "### Assignment 14: Tuple and Set\n",
    "\n",
    "Create a tuple with duplicate elements. Convert it to a set to remove duplicates and print the resulting set.\n",
    "\n",
    "### Assignment 15: Tuple Functions\n",
    "\n",
    "Write functions that take a tuple and return the minimum, maximum, and sum of the elements. Print the results for a sample tuple.\n",
    "```"
   ]
  },
  {
   "cell_type": "code",
   "execution_count": 2,
   "metadata": {},
   "outputs": [
    {
     "name": "stdout",
     "output_type": "stream",
     "text": [
      "[1, 2, 3, 4, 5, 6, 7, 8, 9, 10]\n"
     ]
    }
   ],
   "source": [
    "#1\n",
    "tpl = [i for i in range(1, 11)]\n",
    "print(tpl)"
   ]
  },
  {
   "cell_type": "code",
   "execution_count": 3,
   "id": "d97883a5",
   "metadata": {},
   "outputs": [
    {
     "name": "stdout",
     "output_type": "stream",
     "text": [
      "1 [2, 3, 4] 10\n"
     ]
    }
   ],
   "source": [
    "#2\n",
    "fist, middle, last = tpl[0], tpl[1:4], tpl[-1]\n",
    "print(fist, middle, last)"
   ]
  },
  {
   "cell_type": "code",
   "execution_count": 13,
   "id": "bd1d69a7",
   "metadata": {},
   "outputs": [
    {
     "name": "stdout",
     "output_type": "stream",
     "text": [
      "[1, 2, 3] [8, 9, 10] [2, 3, 4]\n"
     ]
    }
   ],
   "source": [
    "#3\n",
    "print(tpl[:3], tpl[-3:], tpl[1:4])"
   ]
  },
  {
   "cell_type": "code",
   "execution_count": 14,
   "id": "1acba1a5",
   "metadata": {},
   "outputs": [
    {
     "name": "stdout",
     "output_type": "stream",
     "text": [
      "6\n"
     ]
    }
   ],
   "source": [
    "#4\n",
    "tpl = [[1,2,3], [4,5,6], [7,8,9]]\n",
    "print(tpl[1][2])"
   ]
  },
  {
   "cell_type": "code",
   "execution_count": 31,
   "id": "25e2e2c3",
   "metadata": {},
   "outputs": [
    {
     "name": "stdout",
     "output_type": "stream",
     "text": [
      "[1, 2, 3, 4, 5, 6]\n",
      "[5, 6, 6, 9, 7, 3, 2, 3, 8, 2, 7, 4, 8, 6, 5, 6, 3, 2, 9]\n",
      "5\n",
      "1 2 3 4 5\n",
      "[1, 2, 3, 4, 5]\n",
      "(1, 2, 3, 4, 5)\n",
      "(1, 2, 3, 4, 5, 6)\n",
      "((1, 2, 3), (4, 5, 6), (7, 8, 9))\n",
      "[1, 2, 3, 4, 5]\n",
      "(1, 2, 3, 4, 5)\n",
      "(1, 2, 3, 4, 5, 6)\n",
      "karthik\n"
     ]
    }
   ],
   "source": [
    "import random\n",
    "#5\n",
    "print([1,2,3] + [4,5,6])\n",
    "\n",
    "#6\n",
    "tpl = [5, 6, 6, 9, 7, 3, 2, 3, 8, 2, 7, 4, 8, 6, 5, 6, 3, 2, 9]\n",
    "print(tpl)\n",
    "print(tpl.index(3))\n",
    "\n",
    "#7\n",
    "tpl=[1,2,3,4,5]\n",
    "a,b,c,d,e = tpl\n",
    "print(a,b,c,d,e)\n",
    "\n",
    "#8\n",
    "tpl = (1, 2, 3, 4, 5)\n",
    "lst=list(tpl)\n",
    "print(lst)\n",
    "print(tpl)\n",
    "lst.append(6)\n",
    "tpl=tuple(lst)\n",
    "print(tpl)\n",
    "\n",
    "#9\n",
    "tpl=((1,2,3), (4,5,6), (7,8,9))\n",
    "print(tpl)\n",
    "\n",
    "#10\n",
    "tpl = (1, 2, 3, 4, 5)\n",
    "lst=list(tpl)\n",
    "print(lst)\n",
    "print(tpl)\n",
    "lst.append(6)\n",
    "tpl=tuple(lst)\n",
    "print(tpl)\n",
    "\n",
    "#11\n",
    "tpl=('k', 'a', 'r', 't', 'h', 'i', 'k')\n",
    "str=''.join(tpl)\n",
    "print(str)\n"
   ]
  },
  {
   "cell_type": "code",
   "execution_count": 40,
   "id": "471f9715",
   "metadata": {},
   "outputs": [
    {
     "name": "stdout",
     "output_type": "stream",
     "text": [
      "[1, 2, 3, 4, 5, 6]\n",
      "{2, 3, 4, 5, 6, 7, 8, 9}\n",
      "1 10 55\n"
     ]
    }
   ],
   "source": [
    "#12\n",
    "dic = {1: 10, 2: 20, 3: 30, 4: 40, 5: 50}\n",
    "\n",
    "#13\n",
    "tpl=((1,2), (3,4), (5,6))\n",
    "s = [j for i in tpl for j in i]\n",
    "print(s)\n",
    "\n",
    "#14\n",
    "tpl = (5, 6, 6, 9, 7, 3, 2, 3, 8, 2, 7, 4, 8, 6, 5, 6, 3, 2, 9)\n",
    "set1=set(tpl)\n",
    "print(set1)\n",
    "\n",
    "#15\n",
    "tpl = (1,2,3,4,5,6,7,8,9,10)\n",
    "print(min(tpl), max(tpl), sum(tpl))"
   ]
  }
 ],
 "metadata": {
  "kernelspec": {
   "display_name": "Python 3",
   "language": "python",
   "name": "python3"
  },
  "language_info": {
   "codemirror_mode": {
    "name": "ipython",
    "version": 3
   },
   "file_extension": ".py",
   "mimetype": "text/x-python",
   "name": "python",
   "nbconvert_exporter": "python",
   "pygments_lexer": "ipython3",
   "version": "3.10.0"
  }
 },
 "nbformat": 4,
 "nbformat_minor": 5
}
