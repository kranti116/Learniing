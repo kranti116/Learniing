{
 "cells": [
  {
   "cell_type": "markdown",
   "metadata": {},
   "source": [
    "# Module: Exception Handling Assignments\n",
    "## Lesson: Exception Handling with try, except, and finally\n",
    "### Assignment 1: Handling Division by Zero\n",
    "\n",
    "Write a function that takes two integers as input and returns their division. Use try, except, and finally blocks to handle division by zero and print an appropriate message.\n",
    "\n",
    "### Assignment 2: File Reading with Exception Handling\n",
    "\n",
    "Write a function that reads the contents of a file named `data.txt`. Use try, except, and finally blocks to handle file not found errors and ensure the file is properly closed.\n",
    "\n",
    "### Assignment 3: Handling Multiple Exceptions\n",
    "\n",
    "Write a function that takes a list of integers and returns their sum. Use try, except, and finally blocks to handle TypeError if a non-integer value is encountered and print an appropriate message.\n",
    "\n",
    "### Assignment 4: Exception Handling in User Input\n",
    "\n",
    "Write a function that prompts the user to enter an integer. Use try, except, and finally blocks to handle ValueError if the user enters a non-integer value and print an appropriate message.\n",
    "\n",
    "### Assignment 5: Exception Handling in Dictionary Access\n",
    "\n",
    "Write a function that takes a dictionary and a key as input and returns the value associated with the key. Use try, except, and finally blocks to handle KeyError if the key is not found in the dictionary and print an appropriate message.\n",
    "\n",
    "### Assignment 6: Nested Exception Handling\n",
    "\n",
    "Write a function that performs nested exception handling. It should first attempt to convert a string to an integer, and then attempt to divide by that integer. Use nested try, except, and finally blocks to handle ValueError and ZeroDivisionError and print appropriate messages.\n",
    "\n",
    "### Assignment 7: Exception Handling in List Operations\n",
    "\n",
    "Write a function that takes a list and an index as input and returns the element at the given index. Use try, except, and finally blocks to handle IndexError if the index is out of range and print an appropriate message.\n",
    "\n",
    "### Assignment 8: Exception Handling in Network Operations\n",
    "\n",
    "Write a function that attempts to open a URL and read its contents. Use try, except, and finally blocks to handle network-related errors and print an appropriate message.\n",
    "\n",
    "### Assignment 9: Exception Handling in JSON Parsing\n",
    "\n",
    "Write a function that attempts to parse a JSON string. Use try, except, and finally blocks to handle JSONDecodeError if the string is not a valid JSON and print an appropriate message.\n",
    "\n",
    "### Assignment 10: Custom Exception Handling\n",
    "\n",
    "Define a custom exception named `NegativeNumberError`. Write a function that raises this exception if a negative number is encountered in a list. Use try, except, and finally blocks to handle the custom exception and print an appropriate message.\n",
    "\n",
    "### Assignment 11: Exception Handling in Function Calls\n",
    "\n",
    "Write a function that calls another function which may raise an exception. Use try, except, and finally blocks to handle the exception and print an appropriate message.\n",
    "\n",
    "### Assignment 12: Exception Handling in Class Methods\n",
    "\n",
    "Define a class with a method that performs a division operation. Use try, except, and finally blocks within the method to handle division by zero and print an appropriate message.\n",
    "\n",
    "### Assignment 13: Exception Handling in Data Conversion\n",
    "\n",
    "Write a function that takes a list of strings and converts them to integers. Use try, except, and finally blocks to handle ValueError if a string cannot be converted and print an appropriate message.\n",
    "\n",
    "### Assignment 14: Exception Handling in List Comprehensions\n",
    "\n",
    "Write a function that uses a list comprehension to convert a list of strings to integers. Use try, except, and finally blocks within the list comprehension to handle ValueError and print an appropriate message.\n",
    "\n",
    "### Assignment 15: Exception Handling in File Writing\n",
    "\n",
    "Write a function that attempts to write a list of strings to a file. Use try, except, and finally blocks to handle IOError and ensure the file is properly closed."
   ]
  },
  {
   "cell_type": "code",
   "execution_count": 5,
   "metadata": {},
   "outputs": [
    {
     "name": "stdout",
     "output_type": "stream",
     "text": [
      "number 1 divided by number 2 is: 2.0\n",
      "Function complete\n"
     ]
    }
   ],
   "source": [
    "#1\n",
    "try:\n",
    "    a=int(input(\"Enter number1:\"))\n",
    "    b=int(input(\"Enter number2:\"))\n",
    "    print(f\"number 1 divided by number 2 is: {a/b}\")\n",
    "except ValueError as ex:\n",
    "    print(\"Invalid input\")\n",
    "except ZeroDivisionError as ex:\n",
    "    print(\"Error\",ex)\n",
    "finally:\n",
    "    print(\"Function complete\")"
   ]
  },
  {
   "cell_type": "code",
   "execution_count": 8,
   "id": "a75cf406",
   "metadata": {},
   "outputs": [
    {
     "name": "stdout",
     "output_type": "stream",
     "text": [
      "hello how are you?\n",
      "The file 'data.txt' has been closed.\n"
     ]
    }
   ],
   "source": [
    "#2\n",
    "try:\n",
    "    file_path = 'data.txt'\n",
    "\n",
    "    with open(file_path, 'r') as file:\n",
    "        content = file.read()\n",
    "\n",
    "    print(content)\n",
    "except FileNotFoundError as ex:\n",
    "    print(ex)\n",
    "finally:\n",
    "    if 'file' in locals() or not file.closed:\n",
    "        file.close()\n",
    "        print(f\"The file '{file_path}' has been closed.\")"
   ]
  },
  {
   "cell_type": "code",
   "execution_count": 13,
   "id": "517a82f9",
   "metadata": {},
   "outputs": [
    {
     "name": "stdout",
     "output_type": "stream",
     "text": [
      "Error in type: 'int' object is not iterable\n",
      "Execution complete.\n"
     ]
    }
   ],
   "source": [
    "#3\n",
    "def sum_list(lst):\n",
    "    total = 0\n",
    "    try:\n",
    "        for item in lst:\n",
    "            total += item\n",
    "    except TypeError as e:\n",
    "        print(f\"Error: {e}\")\n",
    "        total = None\n",
    "    finally:\n",
    "        print(\"Execution complete.\")\n",
    "    return total\n",
    "\n",
    "lst = [1,2,3,4,5,6,7,8,9,'a']\n",
    "lst = 2\n",
    "sum_list(lst)"
   ]
  },
  {
   "cell_type": "code",
   "execution_count": 16,
   "id": "d7825507",
   "metadata": {},
   "outputs": [
    {
     "name": "stdout",
     "output_type": "stream",
     "text": [
      "Error:invalid literal for int() with base 10: 'sdfs'\n",
      "Entered string is : sdf\n"
     ]
    }
   ],
   "source": [
    "#4\n",
    "try:\n",
    "    a=int(input(\"Enter integer:\"))\n",
    "except ValueError as ex:\n",
    "    print(f\"Error:{ex}\")\n",
    "finally:\n",
    "    print(f\"Entered string is : {a}\")"
   ]
  },
  {
   "cell_type": "code",
   "execution_count": 19,
   "id": "ab9cb338",
   "metadata": {},
   "outputs": [
    {
     "name": "stdout",
     "output_type": "stream",
     "text": [
      "Function complete\n",
      "2\n"
     ]
    }
   ],
   "source": [
    "#5\n",
    "def find_value(dic1, input_key):\n",
    "    try:\n",
    "        return dic1[input_key]\n",
    "    except KeyError as e:\n",
    "        print(\"Error:\", e)\n",
    "    finally:\n",
    "        print(\"Function complete\")\n",
    "\n",
    "dic2 = {'a' : 1, 'b' : 2}\n",
    "print(find_value(dic2, 'c'))"
   ]
  },
  {
   "cell_type": "code",
   "execution_count": 21,
   "id": "3206ff3c",
   "metadata": {},
   "outputs": [
    {
     "name": "stdout",
     "output_type": "stream",
     "text": [
      "Error: division by zero\n",
      "Error complete\n"
     ]
    }
   ],
   "source": [
    "#6\n",
    "try:\n",
    "    a='0'\n",
    "    a_int= int(a)\n",
    "    try:\n",
    "        b = 10/a_int\n",
    "    except ZeroDivisionError as e:\n",
    "        print(\"Error:\", e)\n",
    "except ValueError as e:\n",
    "    print(\"Error:\", e)\n",
    "finally:\n",
    "    print(\"Process complete\")"
   ]
  },
  {
   "cell_type": "code",
   "execution_count": 23,
   "id": "d54e4e9c",
   "metadata": {},
   "outputs": [
    {
     "name": "stdout",
     "output_type": "stream",
     "text": [
      "Error list index out of range\n",
      "9 is index reference\n",
      "None\n"
     ]
    }
   ],
   "source": [
    "#7\n",
    "def fetch_element_by_index(lst, index_val):\n",
    "    try:\n",
    "        return lst[index_val]\n",
    "    except IndexError as e:\n",
    "        print(\"Error\", e)\n",
    "    finally:\n",
    "        print(index_val, \"is index reference\")\n",
    "\n",
    "lst = [1,2,3,4,5]\n",
    "print(fetch_element_by_index(lst, 9))"
   ]
  },
  {
   "cell_type": "code",
   "execution_count": null,
   "id": "b66b3c06",
   "metadata": {},
   "outputs": [],
   "source": [
    "#8\n"
   ]
  }
 ],
 "metadata": {
  "kernelspec": {
   "display_name": "Python 3",
   "language": "python",
   "name": "python3"
  },
  "language_info": {
   "codemirror_mode": {
    "name": "ipython",
    "version": 3
   },
   "file_extension": ".py",
   "mimetype": "text/x-python",
   "name": "python",
   "nbconvert_exporter": "python",
   "pygments_lexer": "ipython3",
   "version": "3.10.0"
  }
 },
 "nbformat": 4,
 "nbformat_minor": 5
}
